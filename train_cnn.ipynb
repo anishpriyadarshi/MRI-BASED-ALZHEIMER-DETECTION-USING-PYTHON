{
 "cells": [
  {
   "cell_type": "markdown",
   "id": "dd3b8062",
   "metadata": {},
   "source": [
    "# Necessary Packages for Training Datasetes      "
   ]
  },
  {
   "cell_type": "code",
   "execution_count": 1,
   "id": "5aae2347",
   "metadata": {},
   "outputs": [],
   "source": [
    "# Imports\n",
    "import numpy as np\n",
    "import warnings \n",
    "import matplotlib.pyplot as plt\n",
    "import matplotlib.image as mpimg\n",
    "import tensorflow as tf\n",
    "import keras\n",
    "from keras.preprocessing.image import ImageDataGenerator\n",
    "import keras.preprocessing.image\n",
    "from tensorflow.keras.applications.resnet50 import ResNet50\n",
    "from keras.applications.xception import Xception\n",
    "from keras.layers import Dropout, Flatten, Dense, GlobalAveragePooling2D, Average, Input, Concatenate, GlobalMaxPooling2D,Conv2D\n",
    "from keras.models import Model\n"
   ]
  },
  {
   "cell_type": "code",
   "execution_count": 2,
   "id": "311885d9",
   "metadata": {},
   "outputs": [],
   "source": [
    "\n",
    "from tensorflow.keras.optimizers import Adam \n",
    "from tensorflow.keras.optimizers import SGD\n",
    "from tensorflow.keras.optimizers import RMSprop"
   ]
  },
  {
   "cell_type": "markdown",
   "id": "54d05f8f",
   "metadata": {},
   "source": [
    "# Assign Image size and Training Rate"
   ]
  },
  {
   "cell_type": "code",
   "execution_count": 3,
   "id": "73ca2727",
   "metadata": {},
   "outputs": [],
   "source": [
    "warnings.filterwarnings('ignore')\n",
    "IMAGE_SIZE = (128,128)\n",
    "INPUT_SHAPE = (128,128, 3)\n",
    "TRAINING_RATE = 0.001"
   ]
  },
  {
   "cell_type": "markdown",
   "id": "f57a55ff",
   "metadata": {},
   "source": [
    "# Load Training and Testing Datasets to generate Model"
   ]
  },
  {
   "cell_type": "code",
   "execution_count": 4,
   "id": "c7d34987",
   "metadata": {},
   "outputs": [
    {
     "name": "stdout",
     "output_type": "stream",
     "text": [
      "Found 3229 images belonging to 4 classes.\n",
      "Found 807 images belonging to 4 classes.\n"
     ]
    },
    {
     "data": {
      "text/plain": [
       "{0: 'MildDemented',\n",
       " 1: 'ModerateDemented',\n",
       " 2: 'NonDemented',\n",
       " 3: 'VeryMildDemented'}"
      ]
     },
     "execution_count": 4,
     "metadata": {},
     "output_type": "execute_result"
    }
   ],
   "source": [
    "#read the train and test dataset\n",
    "train_datagen = ImageDataGenerator()\n",
    "validate_datagen = ImageDataGenerator()\n",
    "\n",
    "training_set = train_datagen.flow_from_directory(\n",
    "            'Dataset/train',\n",
    "            target_size = IMAGE_SIZE,\n",
    "            class_mode = 'categorical',\n",
    "            batch_size = 20)\n",
    "\n",
    "validation_set = validate_datagen.flow_from_directory(\n",
    "            'Dataset/val',\n",
    "            target_size = IMAGE_SIZE,\n",
    "            class_mode = 'categorical',\n",
    "            batch_size = 20)\n",
    "\n",
    "classes = {v: k for k, v in training_set.class_indices.items()}\n",
    "classes"
   ]
  },
  {
   "cell_type": "markdown",
   "id": "9e1a0eb1",
   "metadata": {},
   "source": [
    "# Initialize Training method and Training Rate"
   ]
  },
  {
   "cell_type": "code",
   "execution_count": 5,
   "id": "bc64c398",
   "metadata": {},
   "outputs": [
    {
     "name": "stderr",
     "output_type": "stream",
     "text": [
      "WARNING:absl:`lr` is deprecated in Keras optimizer, please use `learning_rate` or use the legacy optimizer, e.g.,tf.keras.optimizers.legacy.Adam.\n",
      "WARNING:absl:`lr` is deprecated in Keras optimizer, please use `learning_rate` or use the legacy optimizer, e.g.,tf.keras.optimizers.legacy.SGD.\n",
      "WARNING:absl:`lr` is deprecated in Keras optimizer, please use `learning_rate` or use the legacy optimizer, e.g.,tf.keras.optimizers.legacy.RMSprop.\n"
     ]
    },
    {
     "name": "stdout",
     "output_type": "stream",
     "text": [
      "Model: \"model\"\n",
      "__________________________________________________________________________________________________\n",
      " Layer (type)                   Output Shape         Param #     Connected to                     \n",
      "==================================================================================================\n",
      " input_1 (InputLayer)           [(None, 128, 128, 3  0           []                               \n",
      "                                )]                                                                \n",
      "                                                                                                  \n",
      " xception (Functional)          (None, 4, 4, 2048)   20861480    ['input_1[0][0]']                \n",
      "                                                                                                  \n",
      " resnet50 (Functional)          (None, 4, 4, 2048)   23587712    ['input_1[0][0]']                \n",
      "                                                                                                  \n",
      " global_average_pooling2d (Glob  (None, 2048)        0           ['xception[0][0]']               \n",
      " alAveragePooling2D)                                                                              \n",
      "                                                                                                  \n",
      " global_average_pooling2d_1 (Gl  (None, 2048)        0           ['resnet50[0][0]']               \n",
      " obalAveragePooling2D)                                                                            \n",
      "                                                                                                  \n",
      " concatenate (Concatenate)      (None, 4096)         0           ['global_average_pooling2d[0][0]'\n",
      "                                                                 , 'global_average_pooling2d_1[0][\n",
      "                                                                 0]']                             \n",
      "                                                                                                  \n",
      " dropout (Dropout)              (None, 4096)         0           ['concatenate[0][0]']            \n",
      "                                                                                                  \n",
      " dense (Dense)                  (None, 4)            16388       ['dropout[0][0]']                \n",
      "                                                                                                  \n",
      "==================================================================================================\n",
      "Total params: 44,465,580\n",
      "Trainable params: 44,357,932\n",
      "Non-trainable params: 107,648\n",
      "__________________________________________________________________________________________________\n"
     ]
    }
   ],
   "source": [
    "#Model\n",
    "input_shape = INPUT_SHAPE\n",
    "inputs = Input(input_shape)\n",
    "input_tensor = Input(shape= (128,128,3))\n",
    "\n",
    "#xception = Xception(include_top=False, input_shape = input_shape,)(inputs)\n",
    "xception = Xception(include_top=False, input_shape = input_shape, weights = 'imagenet')(inputs)\n",
    "res_net = ResNet50(input_tensor = input_tensor, include_top = False, weights = 'imagenet')(inputs)\n",
    "\n",
    "#output\n",
    "outputs = Concatenate(axis=-1)([GlobalAveragePooling2D()(xception), GlobalAveragePooling2D()(res_net)])\n",
    "#outputs = Concatenate(axis=-1)([GlobalAveragePooling2D()(xception)])\n",
    "outputs = Dropout(0.25)(outputs)\n",
    "outputs = Dense(len(classes), activation='softmax')(outputs)\n",
    "\n",
    "# Set Optimizer\n",
    "opt1 = Adam(lr=TRAINING_RATE)\n",
    "opt2 = SGD(lr=TRAINING_RATE)\n",
    "opt3 =RMSprop(lr=TRAINING_RATE)\n",
    "\n",
    "model = Model(inputs, outputs)\n",
    "model.compile(optimizer=opt2,\n",
    "              loss='categorical_crossentropy',\n",
    "              metrics=['accuracy'])\n",
    "\n",
    "model.summary()"
   ]
  },
  {
   "cell_type": "markdown",
   "id": "e7df57a9",
   "metadata": {},
   "source": [
    "# To Start Training Process"
   ]
  },
  {
   "cell_type": "code",
   "execution_count": null,
   "id": "7a555f9c",
   "metadata": {},
   "outputs": [
    {
     "name": "stdout",
     "output_type": "stream",
     "text": [
      "Epoch 1/2\n",
      "162/162 [==============================] - 984s 6s/step - loss: 0.9879 - accuracy: 0.5649 - val_loss: 0.7482 - val_accuracy: 0.6853\n",
      "Epoch 2/2\n",
      " 47/162 [=======>......................] - ETA: 12:19 - loss: 0.5038 - accuracy: 0.7912"
     ]
    }
   ],
   "source": [
    "# Training\n",
    "Training_model = model.fit(training_set,\n",
    "                    steps_per_epoch= len(training_set),\n",
    "                    epochs=2,\n",
    "                    validation_data= validation_set,\n",
    "                    validation_steps =len(validation_set))"
   ]
  },
  {
   "cell_type": "markdown",
   "id": "951efc9e",
   "metadata": {},
   "source": [
    "# Save Trainned Model"
   ]
  },
  {
   "cell_type": "code",
   "execution_count": null,
   "id": "9f29ef35",
   "metadata": {},
   "outputs": [],
   "source": [
    "model.save(\"Trained_Models/LastModel.h5\")\n"
   ]
  },
  {
   "cell_type": "markdown",
   "id": "5245c4c5",
   "metadata": {},
   "source": [
    "# Visualize the Trainned model accuracy"
   ]
  },
  {
   "cell_type": "code",
   "execution_count": null,
   "id": "f04e8cb0",
   "metadata": {},
   "outputs": [],
   "source": [
    "fig, ax = plt.subplots(1,2, figsize=(10,5))\n",
    "ax = ax.ravel()\n",
    "for i, met in enumerate(['accuracy','loss']):\n",
    "    ax[i].plot(Training_model.history[met])\n",
    "    ax[i].set_title('Model {}'.format(met))\n",
    "    ax[i].set_xlabel('epochs')\n",
    "    ax[i].set_ylabel(met)\n",
    "    ax[i].legend(['train'])\n",
    "    \n",
    "plt.show()"
   ]
  },
  {
   "cell_type": "code",
   "execution_count": null,
   "id": "7e42cf69",
   "metadata": {},
   "outputs": [],
   "source": [
    "plt.plot(Training_model.history['accuracy'])\n",
    "plt.plot(Training_model.history['val_accuracy'])\n",
    "plt.title('model accuracy')\n",
    "plt.ylabel('accuracy')\n",
    "plt.xlabel('epoch')\n",
    "plt.legend(['train', 'test'], loc='upper left')\n",
    "plt.show()\n",
    "# summarize history for loss\n",
    "\n",
    "plt.plot(Training_model.history['loss'])\n",
    "plt.plot(Training_model.history['val_loss'])\n",
    "plt.title('model loss')\n",
    "plt.ylabel('loss')\n",
    "plt.xlabel('epoch')\n",
    "plt.legend(['train', 'test'], loc='upper left')\n",
    "plt.show()"
   ]
  },
  {
   "cell_type": "code",
   "execution_count": null,
   "id": "b6175794",
   "metadata": {},
   "outputs": [],
   "source": []
  },
  {
   "cell_type": "code",
   "execution_count": null,
   "id": "7e00b1ed",
   "metadata": {},
   "outputs": [],
   "source": []
  },
  {
   "cell_type": "code",
   "execution_count": null,
   "id": "4be24355-6d85-4e1a-82b1-3b852cb798c2",
   "metadata": {},
   "outputs": [],
   "source": []
  },
  {
   "cell_type": "code",
   "execution_count": null,
   "id": "838b4256-545f-48b4-8689-f4b2742fc244",
   "metadata": {},
   "outputs": [],
   "source": []
  },
  {
   "cell_type": "code",
   "execution_count": null,
   "id": "47734c2c-31ec-48ec-a5d7-88184861fbf5",
   "metadata": {},
   "outputs": [],
   "source": []
  },
  {
   "cell_type": "code",
   "execution_count": null,
   "id": "a6b8c9dc-ebce-4f8e-a2d8-9d9fd86d54fa",
   "metadata": {},
   "outputs": [],
   "source": []
  }
 ],
 "metadata": {
  "kernelspec": {
   "display_name": "Python 3 (ipykernel)",
   "language": "python",
   "name": "python3"
  },
  "language_info": {
   "codemirror_mode": {
    "name": "ipython",
    "version": 3
   },
   "file_extension": ".py",
   "mimetype": "text/x-python",
   "name": "python",
   "nbconvert_exporter": "python",
   "pygments_lexer": "ipython3",
   "version": "3.10.0"
  }
 },
 "nbformat": 4,
 "nbformat_minor": 5
}
